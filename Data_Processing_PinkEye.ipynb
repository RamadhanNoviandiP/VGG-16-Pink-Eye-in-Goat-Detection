{
  "nbformat": 4,
  "nbformat_minor": 0,
  "metadata": {
    "colab": {
      "provenance": []
    },
    "kernelspec": {
      "name": "python3",
      "display_name": "Python 3"
    },
    "language_info": {
      "name": "python"
    }
  },
  "cells": [
    {
      "cell_type": "code",
      "execution_count": 25,
      "metadata": {
        "id": "p-69F2MOEzrW"
      },
      "outputs": [],
      "source": [
        "import pandas as pd\n",
        "import hashlib\n",
        "import os\n",
        "from PIL import Image\n",
        "from collections import defaultdict"
      ]
    },
    {
      "cell_type": "code",
      "source": [
        "!git clone https://github.com/RamadhanNoviandiP/VGG-16-Pink-Eye-in-Goat-Detection.git\n"
      ],
      "metadata": {
        "colab": {
          "base_uri": "https://localhost:8080/"
        },
        "id": "15VzrWc6E60p",
        "outputId": "31a645d1-3041-492b-9f3b-93c93abf4319"
      },
      "execution_count": 23,
      "outputs": [
        {
          "output_type": "stream",
          "name": "stdout",
          "text": [
            "Cloning into 'VGG-16-Pink-Eye-in-Goat-Detection'...\n",
            "remote: Enumerating objects: 183, done.\u001b[K\n",
            "remote: Counting objects: 100% (12/12), done.\u001b[K\n",
            "remote: Compressing objects: 100% (11/11), done.\u001b[K\n",
            "remote: Total 183 (delta 0), reused 12 (delta 0), pack-reused 171\u001b[K\n",
            "Receiving objects: 100% (183/183), 45.78 MiB | 21.77 MiB/s, done.\n"
          ]
        }
      ]
    },
    {
      "cell_type": "code",
      "source": [
        "%cd VGG-16-Pink-Eye-in-Goat-Detection/Dataset/pinkeye\n"
      ],
      "metadata": {
        "colab": {
          "base_uri": "https://localhost:8080/"
        },
        "id": "yZpPEVqRVPpr",
        "outputId": "70bc3bf2-2fcd-4ef8-b5a5-0b67449e9b3d"
      },
      "execution_count": 24,
      "outputs": [
        {
          "output_type": "stream",
          "name": "stdout",
          "text": [
            "/content/VGG-16-Pink-Eye-in-Goat-Detection/VGG-16-Pink-Eye-in-Goat-Detection/Dataset/pinkeye/VGG-16-Pink-Eye-in-Goat-Detection/Dataset/pinkeye\n"
          ]
        }
      ]
    },
    {
      "cell_type": "code",
      "source": [
        "# Path ke direktori dataset\n",
        "dataset_dir = '/content/VGG-16-Pink-Eye-in-Goat-Detection/Dataset/pinkeye'\n",
        "\n",
        "# Daftar untuk menyimpan nama file gambar yang sudah dilihat\n",
        "seen_images = set()\n",
        "\n",
        "# Daftar untuk menyimpan nama file gambar yang diduga duplikat\n",
        "duplicate_images = []\n",
        "\n",
        "# Dictionary untuk menghitung jumlah kemunculan setiap gambar\n",
        "image_counts = {}\n",
        "\n",
        "# Fungsi untuk memeriksa apakah suatu gambar adalah duplikat atau tidak\n",
        "def is_duplicate(image_path):\n",
        "    with Image.open(image_path) as img:\n",
        "        img_hash = img.tobytes()\n",
        "        if img_hash in seen_images:\n",
        "            return True\n",
        "        else:\n",
        "            seen_images.add(img_hash)\n",
        "            return False\n",
        "\n",
        "# Memeriksa setiap gambar dalam dataset\n",
        "for root, dirs, files in os.walk(dataset_dir):\n",
        "    for file in files:\n",
        "        image_path = os.path.join(root, file)\n",
        "\n",
        "        # Memeriksa apakah gambar sudah dilihat sebelumnya (duplikat)\n",
        "        if is_duplicate(image_path):\n",
        "            duplicate_images.append(file)\n",
        "\n",
        "        # Menghitung jumlah kemunculan setiap gambar\n",
        "        if file in image_counts:\n",
        "            image_counts[file] += 1\n",
        "        else:\n",
        "            image_counts[file] = 1\n",
        "\n",
        "# Menampilkan daftar gambar duplikat\n",
        "if duplicate_images:\n",
        "    print(\"Gambar duplikat ditemukan:\")\n",
        "    for image in duplicate_images:\n",
        "        print(image)\n",
        "else:\n",
        "    print(\"Tidak ada gambar duplikat.\")\n",
        "\n",
        "# Menghitung jumlah total gambar dalam dataset\n",
        "total_images = sum(image_counts.values())\n",
        "print(f\"Jumlah total gambar: {total_images}\")\n"
      ],
      "metadata": {
        "colab": {
          "base_uri": "https://localhost:8080/"
        },
        "id": "srJDv2ZsXHqC",
        "outputId": "3fef9f82-2007-4783-c344-792e94e253b5"
      },
      "execution_count": 36,
      "outputs": [
        {
          "output_type": "stream",
          "name": "stdout",
          "text": [
            "Gambar duplikat ditemukan:\n",
            "Copy of 00000065.jpg\n",
            "Copy of 00000071.jpg\n",
            "Copy of 00000030.jpg\n",
            "Jumlah total gambar: 72\n"
          ]
        }
      ]
    },
    {
      "cell_type": "code",
      "source": [
        "# Path ke direktori dataset\n",
        "dataset_dir = '/content/VGG-16-Pink-Eye-in-Goat-Detection/Dataset/pinkeye'\n",
        "\n",
        "# Daftar untuk menyimpan nama file gambar yang sudah dilihat\n",
        "seen_images = set()\n",
        "\n",
        "# Daftar untuk menyimpan nama file gambar yang diduga duplikat\n",
        "duplicate_images = []\n",
        "\n",
        "# Fungsi untuk memeriksa apakah suatu gambar adalah duplikat atau tidak\n",
        "def is_duplicate(image_path):\n",
        "    with Image.open(image_path) as img:\n",
        "        img_hash = img.tobytes()\n",
        "        if img_hash in seen_images:\n",
        "            return True\n",
        "        else:\n",
        "            seen_images.add(img_hash)\n",
        "            return False\n",
        "\n",
        "# Memeriksa setiap gambar dalam dataset\n",
        "for root, dirs, files in os.walk(dataset_dir):\n",
        "    for file in files:\n",
        "        image_path = os.path.join(root, file)\n",
        "\n",
        "        # Memeriksa apakah gambar sudah dilihat sebelumnya (duplikat)\n",
        "        if is_duplicate(image_path):\n",
        "            duplicate_images.append(image_path)\n",
        "\n",
        "# Hapus gambar duplikat\n",
        "for image_path in duplicate_images:\n",
        "    os.remove(image_path)\n",
        "\n",
        "print(f\"{len(duplicate_images)} gambar duplikat berhasil dihapus.\")\n"
      ],
      "metadata": {
        "colab": {
          "base_uri": "https://localhost:8080/"
        },
        "id": "DQiI3ovUXLIY",
        "outputId": "81c7e076-b3c5-4894-b437-c24f70f78a3f"
      },
      "execution_count": 37,
      "outputs": [
        {
          "output_type": "stream",
          "name": "stdout",
          "text": [
            "3 gambar duplikat berhasil dihapus.\n"
          ]
        }
      ]
    },
    {
      "cell_type": "code",
      "source": [
        "# Path ke direktori dataset\n",
        "dataset_dir = '/content/VGG-16-Pink-Eye-in-Goat-Detection/Dataset/pinkeye'\n",
        "\n",
        "# Daftar untuk menyimpan nama file gambar yang sudah dilihat\n",
        "seen_images = set()\n",
        "\n",
        "# Daftar untuk menyimpan nama file gambar yang diduga duplikat\n",
        "duplicate_images = []\n",
        "\n",
        "# Fungsi untuk memeriksa apakah suatu gambar adalah duplikat atau tidak\n",
        "def is_duplicate(image_path):\n",
        "    with Image.open(image_path) as img:\n",
        "        img_hash = img.tobytes()\n",
        "        if img_hash in seen_images:\n",
        "            return True\n",
        "        else:\n",
        "            seen_images.add(img_hash)\n",
        "            return False\n",
        "\n",
        "# Memeriksa setiap gambar dalam dataset\n",
        "for root, dirs, files in os.walk(dataset_dir):\n",
        "    for file in files:\n",
        "        image_path = os.path.join(root, file)\n",
        "\n",
        "        # Memeriksa apakah gambar sudah dilihat sebelumnya (duplikat)\n",
        "        if is_duplicate(image_path):\n",
        "            duplicate_images.append(image_path)\n",
        "\n",
        "# Menampilkan daftar gambar duplikat (jika ada)\n",
        "if duplicate_images:\n",
        "    print(\"Gambar duplikat ditemukan:\")\n",
        "    for image in duplicate_images:\n",
        "        print(image)\n",
        "else:\n",
        "    print(\"Tidak ada gambar duplikat.\")\n"
      ],
      "metadata": {
        "colab": {
          "base_uri": "https://localhost:8080/"
        },
        "id": "Tp5ntw3pXU_e",
        "outputId": "8fb62da3-66a4-4c90-8403-9a793319be9d"
      },
      "execution_count": 38,
      "outputs": [
        {
          "output_type": "stream",
          "name": "stdout",
          "text": [
            "Tidak ada gambar duplikat.\n"
          ]
        }
      ]
    },
    {
      "cell_type": "code",
      "source": [
        "\n",
        "\n",
        "# Path ke direktori dataset\n",
        "dataset_dir = '/content/VGG-16-Pink-Eye-in-Goat-Detection/Dataset/pinkeye'\n",
        "\n",
        "# Daftar semua nama file gambar dalam dataset\n",
        "image_files = os.listdir(dataset_dir)\n",
        "\n",
        "# Mendefinisikan prefix untuk nama baru\n",
        "new_name_prefix = \"pinkeye_\"\n",
        "\n",
        "# Menghitung jumlah digit yang dibutuhkan untuk indeks dalam nama baru\n",
        "num_digits = len(str(len(image_files)))\n",
        "\n",
        "# Iterasi melalui setiap file gambar dan mengubah namanya\n",
        "for i, filename in enumerate(image_files):\n",
        "    # Ekstrak ekstensi file\n",
        "    _, ext = os.path.splitext(filename)\n",
        "\n",
        "    # Buat nama baru\n",
        "    new_filename = f\"{new_name_prefix}{str(i+1).zfill(num_digits)}{ext}\"\n",
        "\n",
        "    # Path lengkap ke file lama dan baru\n",
        "    old_path = os.path.join(dataset_dir, filename)\n",
        "    new_path = os.path.join(dataset_dir, new_filename)\n",
        "\n",
        "    # Ganti nama file\n",
        "    os.rename(old_path, new_path)\n",
        "\n",
        "print(\"Nama file gambar telah berhasil diganti.\")\n"
      ],
      "metadata": {
        "colab": {
          "base_uri": "https://localhost:8080/"
        },
        "id": "orthPVpBXe27",
        "outputId": "ac707d09-ae72-4c82-c21e-db170b67f905"
      },
      "execution_count": 39,
      "outputs": [
        {
          "output_type": "stream",
          "name": "stdout",
          "text": [
            "Nama file gambar telah berhasil diganti.\n"
          ]
        }
      ]
    },
    {
      "cell_type": "code",
      "source": [
        "# Menampilkan daftar nama file gambar setelah penggantian nama\n",
        "print(\"Daftar nama file gambar setelah penggantian:\")\n",
        "for filename in os.listdir(dataset_dir):\n",
        "    print(filename)\n"
      ],
      "metadata": {
        "colab": {
          "base_uri": "https://localhost:8080/"
        },
        "id": "C0TpAHzRXxz6",
        "outputId": "66bd2262-8b16-4a90-b4be-5d7304542dcf"
      },
      "execution_count": 41,
      "outputs": [
        {
          "output_type": "stream",
          "name": "stdout",
          "text": [
            "Daftar nama file gambar setelah penggantian:\n",
            "pinkeye_11.jpg\n",
            "pinkeye_52.jpg\n",
            "pinkeye_50.jpg\n",
            "pinkeye_01.jpg\n",
            "pinkeye_53.jpg\n",
            "pinkeye_67.jpg\n",
            "pinkeye_26.jpg\n",
            "pinkeye_27.jpg\n",
            "pinkeye_47.jpg\n",
            "pinkeye_57.jpg\n",
            "pinkeye_04.jpg\n",
            "pinkeye_45.jpg\n",
            "pinkeye_42.jpg\n",
            "pinkeye_60.jpg\n",
            "pinkeye_35.jpg\n",
            "pinkeye_48.jpg\n",
            "pinkeye_58.jpg\n",
            "pinkeye_66.png\n",
            "pinkeye_46.jpg\n",
            "pinkeye_38.jpg\n",
            "pinkeye_62.jpg\n",
            "pinkeye_63.jpg\n",
            "pinkeye_61.jpg\n",
            "pinkeye_69.jpg\n",
            "pinkeye_54.jpg\n",
            "pinkeye_59.jpg\n",
            "pinkeye_06.jpg\n",
            "pinkeye_34.jpg\n",
            "pinkeye_03.jpg\n",
            "pinkeye_37.jpg\n",
            "pinkeye_17.jpg\n",
            "pinkeye_13.jpg\n",
            "pinkeye_21.jpg\n",
            "pinkeye_64.jpg\n",
            "pinkeye_28.jpg\n",
            "pinkeye_02.jpg\n",
            "pinkeye_36.jpg\n",
            "pinkeye_39.jpg\n",
            "pinkeye_23.jpg\n",
            "pinkeye_32.jpg\n",
            "pinkeye_15.jpg\n",
            "pinkeye_12.jpg\n",
            "pinkeye_49.jpg\n",
            "pinkeye_31.jpg\n",
            "pinkeye_65.jpg\n",
            "pinkeye_40.jpg\n",
            "pinkeye_51.jpg\n",
            "pinkeye_43.jpg\n",
            "pinkeye_07.jpg\n",
            "pinkeye_05.jpg\n",
            "pinkeye_24.jpg\n",
            "pinkeye_33.jpg\n",
            "pinkeye_19.jpg\n",
            "pinkeye_16.jpg\n",
            "pinkeye_14.jpg\n",
            "pinkeye_22.jpg\n",
            "pinkeye_29.jpg\n",
            "pinkeye_20.jpg\n",
            "pinkeye_08.jpg\n",
            "pinkeye_09.jpg\n",
            "pinkeye_44.jpg\n",
            "pinkeye_68.jpg\n",
            "pinkeye_10.jpg\n",
            "pinkeye_18.jpg\n",
            "pinkeye_55.png\n",
            "pinkeye_56.jpg\n",
            "pinkeye_30.jpg\n",
            "pinkeye_25.jpg\n",
            "pinkeye_41.jpg\n"
          ]
        }
      ]
    },
    {
      "cell_type": "code",
      "source": [
        "import zipfile\n",
        "import os\n",
        "\n",
        "# Path ke direktori yang ingin Anda zip\n",
        "dir_to_zip = '/content/VGG-16-Pink-Eye-in-Goat-Detection/Dataset/sehat'\n",
        "\n",
        "# Path ke file zip yang ingin Anda buat\n",
        "zip_file_path = '/content/sehat_dataset.zip'\n",
        "\n",
        "# Membuka file zip untuk penulisan\n",
        "with zipfile.ZipFile(zip_file_path, 'w') as zipf:\n",
        "    # Menambahkan setiap file dalam direktori ke dalam file zip\n",
        "    for root, dirs, files in os.walk(dir_to_zip):\n",
        "        for file in files:\n",
        "            file_path = os.path.join(root, file)\n",
        "            zipf.write(file_path, os.path.relpath(file_path, dir_to_zip))\n",
        "\n",
        "print(\"Folder 'pinkeye' telah berhasil disimpan dalam file zip:\", zip_file_path)\n"
      ],
      "metadata": {
        "colab": {
          "base_uri": "https://localhost:8080/"
        },
        "id": "6if_eSZIX4Gl",
        "outputId": "8ebb27a4-73c0-47c6-d7c5-78609ee9ae21"
      },
      "execution_count": 43,
      "outputs": [
        {
          "output_type": "stream",
          "name": "stdout",
          "text": [
            "Folder 'pinkeye' telah berhasil disimpan dalam file zip: /content/sehat_dataset.zip\n"
          ]
        }
      ]
    }
  ]
}