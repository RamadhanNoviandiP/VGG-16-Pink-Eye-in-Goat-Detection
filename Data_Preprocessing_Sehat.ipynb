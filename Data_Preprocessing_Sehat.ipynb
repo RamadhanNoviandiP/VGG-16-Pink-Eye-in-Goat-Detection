{
  "nbformat": 4,
  "nbformat_minor": 0,
  "metadata": {
    "colab": {
      "provenance": []
    },
    "kernelspec": {
      "name": "python3",
      "display_name": "Python 3"
    },
    "language_info": {
      "name": "python"
    }
  },
  "cells": [
    {
      "cell_type": "code",
      "execution_count": 19,
      "metadata": {
        "id": "3R90DPzYYj2s"
      },
      "outputs": [],
      "source": [
        "import pandas as pd\n",
        "import hashlib\n",
        "import os\n",
        "from PIL import Image\n",
        "from collections import defaultdict\n",
        "import zipfile"
      ]
    },
    {
      "cell_type": "code",
      "source": [
        "!git clone https://github.com/RamadhanNoviandiP/VGG-16-Pink-Eye-in-Goat-Detection.git"
      ],
      "metadata": {
        "id": "-5B12vGoYtMC",
        "outputId": "807ee5a7-9c17-4101-bfb0-8f0d8832b0b3",
        "colab": {
          "base_uri": "https://localhost:8080/"
        }
      },
      "execution_count": 20,
      "outputs": [
        {
          "output_type": "stream",
          "name": "stdout",
          "text": [
            "Cloning into 'VGG-16-Pink-Eye-in-Goat-Detection'...\n",
            "remote: Enumerating objects: 183, done.\u001b[K\n",
            "remote: Counting objects: 100% (12/12), done.\u001b[K\n",
            "remote: Compressing objects: 100% (11/11), done.\u001b[K\n",
            "remote: Total 183 (delta 0), reused 12 (delta 0), pack-reused 171\u001b[K\n",
            "Receiving objects: 100% (183/183), 45.78 MiB | 20.59 MiB/s, done.\n"
          ]
        }
      ]
    },
    {
      "cell_type": "code",
      "source": [
        "%cd VGG-16-Pink-Eye-in-Goat-Detection/Dataset/sehat"
      ],
      "metadata": {
        "id": "wP4uI3MxYxTv",
        "outputId": "ea50a0c5-89c8-42b5-86db-d8e01a877c6b",
        "colab": {
          "base_uri": "https://localhost:8080/"
        }
      },
      "execution_count": 21,
      "outputs": [
        {
          "output_type": "stream",
          "name": "stdout",
          "text": [
            "/content/VGG-16-Pink-Eye-in-Goat-Detection/Dataset/pinkeye/VGG-16-Pink-Eye-in-Goat-Detection/Dataset/sehat/VGG-16-Pink-Eye-in-Goat-Detection/Dataset/sehat\n"
          ]
        }
      ]
    },
    {
      "cell_type": "code",
      "source": [
        "# Path ke direktori dataset\n",
        "dataset_dir = '/content/VGG-16-Pink-Eye-in-Goat-Detection/Dataset/sehat'"
      ],
      "metadata": {
        "id": "V5uLCQR3Y8ap"
      },
      "execution_count": 22,
      "outputs": []
    },
    {
      "cell_type": "code",
      "source": [
        "# Daftar untuk menyimpan nama file gambar yang sudah dilihat\n",
        "seen_images = set()\n",
        "\n",
        "# Daftar untuk menyimpan nama file gambar yang diduga duplikat\n",
        "duplicate_images = []\n",
        "\n",
        "# Dictionary untuk menghitung jumlah kemunculan setiap gambar\n",
        "image_counts = {}"
      ],
      "metadata": {
        "id": "yxW-92VKZAHc"
      },
      "execution_count": 23,
      "outputs": []
    },
    {
      "cell_type": "code",
      "source": [
        "# Fungsi untuk memeriksa apakah suatu gambar adalah duplikat atau tidak\n",
        "def is_duplicate(image_path):\n",
        "    with Image.open(image_path) as img:\n",
        "        img_hash = img.tobytes()\n",
        "        if img_hash in seen_images:\n",
        "            return True\n",
        "        else:\n",
        "            seen_images.add(img_hash)\n",
        "            return False"
      ],
      "metadata": {
        "id": "6-iB8tM-ZCEB"
      },
      "execution_count": 24,
      "outputs": []
    },
    {
      "cell_type": "code",
      "source": [
        "# Memeriksa setiap gambar dalam dataset\n",
        "for root, dirs, files in os.walk(dataset_dir):\n",
        "    for file in files:\n",
        "        image_path = os.path.join(root, file)\n",
        "\n",
        "        # Memeriksa apakah gambar sudah dilihat sebelumnya (duplikat)\n",
        "        if is_duplicate(image_path):\n",
        "            duplicate_images.append(file)\n",
        "\n",
        "        # Menghitung jumlah kemunculan setiap gambar\n",
        "        if file in image_counts:\n",
        "            image_counts[file] += 1\n",
        "        else:\n",
        "            image_counts[file] = 1"
      ],
      "metadata": {
        "id": "5Au0tee9ZEhD"
      },
      "execution_count": 25,
      "outputs": []
    },
    {
      "cell_type": "code",
      "source": [
        "# Menampilkan daftar gambar duplikat\n",
        "if duplicate_images:\n",
        "    print(\"Gambar duplikat ditemukan:\")\n",
        "    for image in duplicate_images:\n",
        "        print(image)\n",
        "else:\n",
        "    print(\"Tidak ada gambar duplikat.\")"
      ],
      "metadata": {
        "colab": {
          "base_uri": "https://localhost:8080/"
        },
        "id": "AHWwj9JxZGaE",
        "outputId": "c6fe933e-6aec-4938-963f-42dc968d58de"
      },
      "execution_count": 26,
      "outputs": [
        {
          "output_type": "stream",
          "name": "stdout",
          "text": [
            "Tidak ada gambar duplikat.\n"
          ]
        }
      ]
    },
    {
      "cell_type": "code",
      "source": [
        "# Menghitung jumlah total gambar dalam dataset\n",
        "total_images = sum(image_counts.values())\n",
        "print(f\"Jumlah total gambar: {total_images}\")"
      ],
      "metadata": {
        "colab": {
          "base_uri": "https://localhost:8080/"
        },
        "id": "ixBw45ArZJyF",
        "outputId": "641efdd7-7781-4678-a897-904387023a45"
      },
      "execution_count": 27,
      "outputs": [
        {
          "output_type": "stream",
          "name": "stdout",
          "text": [
            "Jumlah total gambar: 93\n"
          ]
        }
      ]
    },
    {
      "cell_type": "code",
      "source": [
        "# Path ke direktori dataset\n",
        "dataset_dir = '/content/VGG-16-Pink-Eye-in-Goat-Detection/Dataset/sehat'\n",
        "\n",
        "# Daftar semua nama file gambar dalam dataset\n",
        "image_files = os.listdir(dataset_dir)\n",
        "\n",
        "# Mendefinisikan prefix untuk nama baru\n",
        "new_name_prefix = \"sehat_\"\n",
        "\n",
        "# Menghitung jumlah digit yang dibutuhkan untuk indeks dalam nama baru\n",
        "num_digits = len(str(len(image_files)))\n",
        "\n",
        "# Iterasi melalui setiap file gambar dan mengubah namanya\n",
        "for i, filename in enumerate(image_files):\n",
        "    # Ekstrak ekstensi file\n",
        "    _, ext = os.path.splitext(filename)\n",
        "\n",
        "    # Buat nama baru\n",
        "    new_filename = f\"{new_name_prefix}{str(i+1).zfill(num_digits)}{ext}\"\n",
        "\n",
        "    # Path lengkap ke file lama dan baru\n",
        "    old_path = os.path.join(dataset_dir, filename)\n",
        "    new_path = os.path.join(dataset_dir, new_filename)\n",
        "\n",
        "    # Ganti nama file\n",
        "    os.rename(old_path, new_path)\n",
        "\n",
        "print(\"Nama file gambar telah berhasil diganti.\")"
      ],
      "metadata": {
        "colab": {
          "base_uri": "https://localhost:8080/"
        },
        "id": "Kn-SZ1NtZS9I",
        "outputId": "81ec0a4b-2d17-4a58-b07b-237644fe974c"
      },
      "execution_count": 28,
      "outputs": [
        {
          "output_type": "stream",
          "name": "stdout",
          "text": [
            "Nama file gambar telah berhasil diganti.\n"
          ]
        }
      ]
    },
    {
      "cell_type": "code",
      "source": [
        "# Menampilkan daftar nama file gambar setelah penggantian nama\n",
        "print(\"Daftar nama file gambar setelah penggantian:\")\n",
        "for filename in os.listdir(dataset_dir):\n",
        "    print(filename)"
      ],
      "metadata": {
        "colab": {
          "base_uri": "https://localhost:8080/"
        },
        "id": "LrrJfV5fZabw",
        "outputId": "e11f0fcf-39d8-4a00-a535-d6bc82c92f10"
      },
      "execution_count": null,
      "outputs": [
        {
          "output_type": "stream",
          "name": "stdout",
          "text": [
            "Daftar nama file gambar setelah penggantian:\n",
            "sehat_33.jpg\n",
            "sehat_70.jpg\n",
            "sehat_39.jpg\n",
            "sehat_19.jpg\n",
            "sehat_63.jpg\n",
            "sehat_66.jpg\n",
            "sehat_28.jpg\n",
            "sehat_88.jpg\n",
            "sehat_82.jpg\n",
            "sehat_14.jpg\n",
            "sehat_34.jpg\n",
            "sehat_38.jpg\n",
            "sehat_45.jpg\n",
            "sehat_36.jpg\n",
            "sehat_84.jpg\n",
            "sehat_18.jpg\n",
            "sehat_11.jpg\n",
            "sehat_61.jpg\n",
            "sehat_73.jpg\n",
            "sehat_90.jpg\n",
            "sehat_60.png\n",
            "sehat_49.jpg\n",
            "sehat_29.jpg\n",
            "sehat_89.jpg\n",
            "sehat_67.jpg\n",
            "sehat_30.jpg\n",
            "sehat_76.jpg\n",
            "sehat_09.jpg\n",
            "sehat_71.jpg\n",
            "sehat_86.jpg\n",
            "sehat_80.jpg\n",
            "sehat_92.jpg\n",
            "sehat_05.jpg\n",
            "sehat_15.jpg\n",
            "sehat_78.jpg\n",
            "sehat_59.jpg\n",
            "sehat_65.jpg\n",
            "sehat_50.jpg\n",
            "sehat_25.jpg\n",
            "sehat_08.jpg\n",
            "sehat_42.jpg\n",
            "sehat_75.jpg\n",
            "sehat_64.jpg\n",
            "sehat_26.jpg\n",
            "sehat_69.jpg\n",
            "sehat_85.jpg\n",
            "sehat_20.jpg\n",
            "sehat_10.jpg\n",
            "sehat_93.jpg\n",
            "sehat_81.jpg\n",
            "sehat_03.jpg\n",
            "sehat_77.jpg\n",
            "sehat_31.jpg\n",
            "sehat_83.jpg\n",
            "sehat_74.jpg\n",
            "sehat_37.jpg\n",
            "sehat_72.jpg\n",
            "sehat_21.jpg\n",
            "sehat_24.jpg\n",
            "sehat_27.jpg\n",
            "sehat_53.jpg\n",
            "sehat_40.jpg\n",
            "sehat_06.jpg\n",
            "sehat_57.jpg\n",
            "sehat_47.jpg\n",
            "sehat_23.jpg\n",
            "sehat_52.jpg\n",
            "sehat_43.jpg\n",
            "sehat_48.jpg\n",
            "sehat_91.jpg\n",
            "sehat_46.jpg\n",
            "sehat_62.jpg\n",
            "sehat_56.jpg\n",
            "sehat_32.jpg\n",
            "sehat_54.jpg\n",
            "sehat_02.jpg\n",
            "sehat_12.jpg\n",
            "sehat_35.jpg\n",
            "sehat_51.jpg\n",
            "sehat_01.jpg\n",
            "sehat_55.jpg\n",
            "sehat_58.jpg\n",
            "sehat_41.jpg\n",
            "sehat_07.jpg\n",
            "sehat_17.jpg\n",
            "sehat_68.jpg\n",
            "sehat_44.jpg\n",
            "sehat_79.jpg\n",
            "sehat_13.jpg\n",
            "sehat_87.jpg\n",
            "sehat_16.jpg\n",
            "sehat_04.jpg\n",
            "sehat_22.jpg\n"
          ]
        }
      ]
    },
    {
      "cell_type": "code",
      "source": [
        "# Path ke direktori yang ingin Anda zip\n",
        "dir_to_zip = '/content/VGG-16-Pink-Eye-in-Goat-Detection/Dataset/sehat'\n",
        "\n",
        "# Path ke file zip yang ingin Anda buat\n",
        "zip_file_path = '/content/sehat.zip'\n",
        "\n",
        "# Membuka file zip untuk penulisan\n",
        "with zipfile.ZipFile(zip_file_path, 'w') as zipf:\n",
        "    # Menambahkan setiap file dalam direktori ke dalam file zip\n",
        "    for root, dirs, files in os.walk(dir_to_zip):\n",
        "        for file in files:\n",
        "            file_path = os.path.join(root, file)\n",
        "            zipf.write(file_path, os.path.relpath(file_path, dir_to_zip))\n",
        "\n",
        "print(\"Folder 'pinkeye' telah berhasil disimpan dalam file zip:\", zip_file_path)"
      ],
      "metadata": {
        "id": "JVUsGuRZZeiF",
        "outputId": "b5c24807-bdf3-41a6-edb5-0ae4e158e0da",
        "colab": {
          "base_uri": "https://localhost:8080/"
        }
      },
      "execution_count": 30,
      "outputs": [
        {
          "output_type": "stream",
          "name": "stdout",
          "text": [
            "Folder 'pinkeye' telah berhasil disimpan dalam file zip: /content/sehat.zip\n"
          ]
        }
      ]
    }
  ]
}